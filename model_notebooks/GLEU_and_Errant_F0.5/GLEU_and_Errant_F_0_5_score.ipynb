{
  "cells": [
    {
      "cell_type": "code",
      "execution_count": null,
      "metadata": {
        "colab": {
          "base_uri": "https://localhost:8080/"
        },
        "id": "AnDsG3luOvJg",
        "outputId": "37aa0bf7-63ad-471c-932f-fd679976e7e5"
      },
      "outputs": [
        {
          "output_type": "stream",
          "name": "stdout",
          "text": [
            "Mounted at /content/drive\n"
          ]
        }
      ],
      "source": [
        "# Mount drive\"\n",
        "from google.colab import drive\n",
        "drive.mount('/content/drive')"
      ]
    },
    {
      "cell_type": "code",
      "execution_count": null,
      "metadata": {
        "colab": {
          "base_uri": "https://localhost:8080/"
        },
        "id": "EAoTylbtOgdo",
        "outputId": "bfcf5c40-7298-44f2-803a-553dbb0c42f3"
      },
      "outputs": [
        {
          "output_type": "stream",
          "name": "stdout",
          "text": [
            "Collecting errant\n",
            "  Downloading errant-3.0.0-py3-none-any.whl (499 kB)\n",
            "\u001b[?25l     \u001b[90m━━━━━━━━━━━━━━━━━━━━━━━━━━━━━━━━━━━━━━━━\u001b[0m \u001b[32m0.0/499.3 kB\u001b[0m \u001b[31m?\u001b[0m eta \u001b[36m-:--:--\u001b[0m\r\u001b[2K     \u001b[91m━━━━━━━━━━━━\u001b[0m\u001b[90m╺\u001b[0m\u001b[90m━━━━━━━━━━━━━━━━━━━━━━━━━━━\u001b[0m \u001b[32m153.6/499.3 kB\u001b[0m \u001b[31m4.6 MB/s\u001b[0m eta \u001b[36m0:00:01\u001b[0m\r\u001b[2K     \u001b[90m━━━━━━━━━━━━━━━━━━━━━━━━━━━━━━━━━━━━━━━━\u001b[0m \u001b[32m499.3/499.3 kB\u001b[0m \u001b[31m8.4 MB/s\u001b[0m eta \u001b[36m0:00:00\u001b[0m\n",
            "\u001b[?25hRequirement already satisfied: spacy<4,>=3.2.0 in /usr/local/lib/python3.10/dist-packages (from errant) (3.7.4)\n",
            "Collecting rapidfuzz>=3.4.0 (from errant)\n",
            "  Downloading rapidfuzz-3.8.1-cp310-cp310-manylinux_2_17_x86_64.manylinux2014_x86_64.whl (3.4 MB)\n",
            "\u001b[2K     \u001b[90m━━━━━━━━━━━━━━━━━━━━━━━━━━━━━━━━━━━━━━━━\u001b[0m \u001b[32m3.4/3.4 MB\u001b[0m \u001b[31m56.5 MB/s\u001b[0m eta \u001b[36m0:00:00\u001b[0m\n",
            "\u001b[?25hRequirement already satisfied: spacy-legacy<3.1.0,>=3.0.11 in /usr/local/lib/python3.10/dist-packages (from spacy<4,>=3.2.0->errant) (3.0.12)\n",
            "Requirement already satisfied: spacy-loggers<2.0.0,>=1.0.0 in /usr/local/lib/python3.10/dist-packages (from spacy<4,>=3.2.0->errant) (1.0.5)\n",
            "Requirement already satisfied: murmurhash<1.1.0,>=0.28.0 in /usr/local/lib/python3.10/dist-packages (from spacy<4,>=3.2.0->errant) (1.0.10)\n",
            "Requirement already satisfied: cymem<2.1.0,>=2.0.2 in /usr/local/lib/python3.10/dist-packages (from spacy<4,>=3.2.0->errant) (2.0.8)\n",
            "Requirement already satisfied: preshed<3.1.0,>=3.0.2 in /usr/local/lib/python3.10/dist-packages (from spacy<4,>=3.2.0->errant) (3.0.9)\n",
            "Requirement already satisfied: thinc<8.3.0,>=8.2.2 in /usr/local/lib/python3.10/dist-packages (from spacy<4,>=3.2.0->errant) (8.2.3)\n",
            "Requirement already satisfied: wasabi<1.2.0,>=0.9.1 in /usr/local/lib/python3.10/dist-packages (from spacy<4,>=3.2.0->errant) (1.1.2)\n",
            "Requirement already satisfied: srsly<3.0.0,>=2.4.3 in /usr/local/lib/python3.10/dist-packages (from spacy<4,>=3.2.0->errant) (2.4.8)\n",
            "Requirement already satisfied: catalogue<2.1.0,>=2.0.6 in /usr/local/lib/python3.10/dist-packages (from spacy<4,>=3.2.0->errant) (2.0.10)\n",
            "Requirement already satisfied: weasel<0.4.0,>=0.1.0 in /usr/local/lib/python3.10/dist-packages (from spacy<4,>=3.2.0->errant) (0.3.4)\n",
            "Requirement already satisfied: typer<0.10.0,>=0.3.0 in /usr/local/lib/python3.10/dist-packages (from spacy<4,>=3.2.0->errant) (0.9.4)\n",
            "Requirement already satisfied: smart-open<7.0.0,>=5.2.1 in /usr/local/lib/python3.10/dist-packages (from spacy<4,>=3.2.0->errant) (6.4.0)\n",
            "Requirement already satisfied: tqdm<5.0.0,>=4.38.0 in /usr/local/lib/python3.10/dist-packages (from spacy<4,>=3.2.0->errant) (4.66.2)\n",
            "Requirement already satisfied: requests<3.0.0,>=2.13.0 in /usr/local/lib/python3.10/dist-packages (from spacy<4,>=3.2.0->errant) (2.31.0)\n",
            "Requirement already satisfied: pydantic!=1.8,!=1.8.1,<3.0.0,>=1.7.4 in /usr/local/lib/python3.10/dist-packages (from spacy<4,>=3.2.0->errant) (2.6.4)\n",
            "Requirement already satisfied: jinja2 in /usr/local/lib/python3.10/dist-packages (from spacy<4,>=3.2.0->errant) (3.1.3)\n",
            "Requirement already satisfied: setuptools in /usr/local/lib/python3.10/dist-packages (from spacy<4,>=3.2.0->errant) (67.7.2)\n",
            "Requirement already satisfied: packaging>=20.0 in /usr/local/lib/python3.10/dist-packages (from spacy<4,>=3.2.0->errant) (24.0)\n",
            "Requirement already satisfied: langcodes<4.0.0,>=3.2.0 in /usr/local/lib/python3.10/dist-packages (from spacy<4,>=3.2.0->errant) (3.3.0)\n",
            "Requirement already satisfied: numpy>=1.19.0 in /usr/local/lib/python3.10/dist-packages (from spacy<4,>=3.2.0->errant) (1.25.2)\n",
            "Requirement already satisfied: annotated-types>=0.4.0 in /usr/local/lib/python3.10/dist-packages (from pydantic!=1.8,!=1.8.1,<3.0.0,>=1.7.4->spacy<4,>=3.2.0->errant) (0.6.0)\n",
            "Requirement already satisfied: pydantic-core==2.16.3 in /usr/local/lib/python3.10/dist-packages (from pydantic!=1.8,!=1.8.1,<3.0.0,>=1.7.4->spacy<4,>=3.2.0->errant) (2.16.3)\n",
            "Requirement already satisfied: typing-extensions>=4.6.1 in /usr/local/lib/python3.10/dist-packages (from pydantic!=1.8,!=1.8.1,<3.0.0,>=1.7.4->spacy<4,>=3.2.0->errant) (4.11.0)\n",
            "Requirement already satisfied: charset-normalizer<4,>=2 in /usr/local/lib/python3.10/dist-packages (from requests<3.0.0,>=2.13.0->spacy<4,>=3.2.0->errant) (3.3.2)\n",
            "Requirement already satisfied: idna<4,>=2.5 in /usr/local/lib/python3.10/dist-packages (from requests<3.0.0,>=2.13.0->spacy<4,>=3.2.0->errant) (3.6)\n",
            "Requirement already satisfied: urllib3<3,>=1.21.1 in /usr/local/lib/python3.10/dist-packages (from requests<3.0.0,>=2.13.0->spacy<4,>=3.2.0->errant) (2.0.7)\n",
            "Requirement already satisfied: certifi>=2017.4.17 in /usr/local/lib/python3.10/dist-packages (from requests<3.0.0,>=2.13.0->spacy<4,>=3.2.0->errant) (2024.2.2)\n",
            "Requirement already satisfied: blis<0.8.0,>=0.7.8 in /usr/local/lib/python3.10/dist-packages (from thinc<8.3.0,>=8.2.2->spacy<4,>=3.2.0->errant) (0.7.11)\n",
            "Requirement already satisfied: confection<1.0.0,>=0.0.1 in /usr/local/lib/python3.10/dist-packages (from thinc<8.3.0,>=8.2.2->spacy<4,>=3.2.0->errant) (0.1.4)\n",
            "Requirement already satisfied: click<9.0.0,>=7.1.1 in /usr/local/lib/python3.10/dist-packages (from typer<0.10.0,>=0.3.0->spacy<4,>=3.2.0->errant) (8.1.7)\n",
            "Requirement already satisfied: cloudpathlib<0.17.0,>=0.7.0 in /usr/local/lib/python3.10/dist-packages (from weasel<0.4.0,>=0.1.0->spacy<4,>=3.2.0->errant) (0.16.0)\n",
            "Requirement already satisfied: MarkupSafe>=2.0 in /usr/local/lib/python3.10/dist-packages (from jinja2->spacy<4,>=3.2.0->errant) (2.1.5)\n",
            "Installing collected packages: rapidfuzz, errant\n",
            "Successfully installed errant-3.0.0 rapidfuzz-3.8.1\n"
          ]
        }
      ],
      "source": [
        "import pandas as pd\n",
        "import numpy as np\n",
        "from tqdm import tqdm\n",
        "from nltk.translate.gleu_score import sentence_gleu\n",
        "\n",
        "import spacy\n",
        "!pip install errant\n",
        "import errant"
      ]
    },
    {
      "cell_type": "code",
      "execution_count": null,
      "metadata": {
        "id": "axGBUH7qOprH"
      },
      "outputs": [],
      "source": [
        "# paths to .txt files. each .txt should be exactly one sentence\n",
        "ORIGINAL_PATH = '/content/drive/MyDrive/CS4248NLP/dev_dataset_results/eval_orig.txt' # path to original text - necessary for f0.5 only\n",
        "PREDICTIONS_PATH = '/content/drive/MyDrive/CS4248NLP/dev_dataset_results/eval_baseline_bert_encoding_beam10.txt' # your model's predictions on the original text\n",
        "GROUND_TRUTH_PATH = '/content/drive/MyDrive/CS4248NLP/dev_dataset_results/eval_corr.txt' # all corrected sentences\n",
        "\n",
        "PREDICTIONS_M2 = PREDICTIONS_PATH.replace('.txt', '.m2')\n",
        "GT_M2 = GROUND_TRUTH_PATH.replace('.txt', '.m2')\n",
        "\n",
        "f_pred = open(PREDICTIONS_PATH, 'r')\n",
        "f_gt = open(GROUND_TRUTH_PATH, 'r')"
      ]
    },
    {
      "cell_type": "code",
      "execution_count": null,
      "metadata": {
        "colab": {
          "base_uri": "https://localhost:8080/"
        },
        "id": "Ij_F5-79P3v3",
        "outputId": "af9ba3ae-3eba-4c63-eb80-962be9c49dfa"
      },
      "outputs": [
        {
          "output_type": "stream",
          "name": "stdout",
          "text": [
            "Overall gleu: 0.6321713063584662\n"
          ]
        }
      ],
      "source": [
        "# calculating GLEU SCORE\n",
        "gleu_scores = []\n",
        "\n",
        "for pred, gt in zip(f_pred, f_gt):\n",
        "  gleu_scores.append(sentence_gleu([gt.split()], pred.split()))\n",
        "\n",
        "overall_gleu = np.mean(gleu_scores)\n",
        "print(f'Overall gleu: {overall_gleu}')"
      ]
    },
    {
      "cell_type": "code",
      "execution_count": null,
      "metadata": {
        "colab": {
          "base_uri": "https://localhost:8080/"
        },
        "id": "BdHBdLgR3Avp",
        "outputId": "dc8e3ef5-ecec-411b-ee7c-4a655accc9f6"
      },
      "outputs": [
        {
          "output_type": "stream",
          "name": "stdout",
          "text": [
            "Loading resources...\n",
            "Processing parallel files...\n",
            "Loading resources...\n",
            "Processing parallel files...\n",
            "\n",
            "============= Span-Based Correction + Classification =============\n",
            "Category       TP       FP       FN       P        R        F0.5\n",
            "M:ADJ          0        39       20       0.0      0.0      0.0\n",
            "M:ADV          0        44       29       0.0      0.0      0.0\n",
            "M:CONJ         0        13       25       0.0      0.0      0.0\n",
            "M:CONTR        0        3        2        0.0      0.0      0.0\n",
            "M:DET          43       172      319      0.2      0.1188   0.1759\n",
            "M:NOUN         0        54       45       0.0      0.0      0.0\n",
            "M:NOUN:POSS    2        6        25       0.25     0.0741   0.1695\n",
            "M:OTHER        0        71       156      0.0      0.0      0.0\n",
            "M:PART         0        3        10       0.0      0.0      0.0\n",
            "M:PREP         2        80       155      0.0244   0.0127   0.0206\n",
            "M:PRON         4        52       54       0.0714   0.069    0.0709\n",
            "M:PUNCT        403      553      701      0.4215   0.365    0.4089\n",
            "M:VERB         1        46       57       0.0213   0.0172   0.0203\n",
            "M:VERB:FORM    6        3        17       0.6667   0.2609   0.5085\n",
            "M:VERB:TENSE   3        42       56       0.0667   0.0508   0.0628\n",
            "R:ADJ          5        235      83       0.0208   0.0568   0.0239\n",
            "R:ADJ:FORM     2        6        10       0.25     0.1667   0.2273\n",
            "R:ADV          3        92       64       0.0316   0.0448   0.0336\n",
            "R:CONJ         0        1        10       0.0      0.0      0.0\n",
            "R:CONTR        5        26       15       0.1613   0.25     0.1736\n",
            "R:DET          12       114      168      0.0952   0.0667   0.0877\n",
            "R:MORPH        22       189      180      0.1043   0.1089   0.1052\n",
            "R:NOUN         13       1590     276      0.0081   0.045    0.0097\n",
            "R:NOUN:INFL    0        5        5        0.0      0.0      0.0\n",
            "R:NOUN:NUM     39       214      210      0.1542   0.1566   0.1546\n",
            "R:NOUN:POSS    0        4        22       0.0      0.0      0.0\n",
            "R:ORTH         113      195      210      0.3669   0.3498   0.3633\n",
            "R:OTHER        24       1918     587      0.0124   0.0393   0.0143\n",
            "R:PART         3        21       43       0.125    0.0652   0.1056\n",
            "R:PREP         56       264      443      0.175    0.1122   0.1574\n",
            "R:PRON         3        33       81       0.0833   0.0357   0.0658\n",
            "R:PUNCT        72       178      222      0.288    0.2449   0.2782\n",
            "R:SPELL        44       147      424      0.2304   0.094    0.1786\n",
            "R:VERB         11       562      339      0.0192   0.0314   0.0208\n",
            "R:VERB:FORM    29       127      171      0.1859   0.145    0.176\n",
            "R:VERB:INFL    2        2        4        0.5      0.3333   0.4545\n",
            "R:VERB:SVA     26       106      115      0.197    0.1844   0.1943\n",
            "R:VERB:TENSE   38       158      341      0.1939   0.1003   0.1634\n",
            "R:WO           8        27       80       0.2286   0.0909   0.1754\n",
            "U:ADJ          0        120      12       0.0      0.0      0.0\n",
            "U:ADV          1        111      45       0.0089   0.0217   0.0101\n",
            "U:CONJ         2        10       7        0.1667   0.2222   0.1754\n",
            "U:CONTR        0        4        7        0.0      0.0      0.0\n",
            "U:DET          60       217      199      0.2166   0.2317   0.2195\n",
            "U:NOUN         6        309      44       0.019    0.12     0.0229\n",
            "U:NOUN:POSS    0        0        9        1.0      0.0      0.0\n",
            "U:OTHER        5        464      78       0.0107   0.0602   0.0128\n",
            "U:PART         0        19       6        0.0      0.0      0.0\n",
            "U:PREP         15       82       87       0.1546   0.1471   0.1531\n",
            "U:PRON         2        46       42       0.0417   0.0455   0.0424\n",
            "U:PUNCT        15       145      79       0.0938   0.1596   0.1022\n",
            "U:VERB         2        156      38       0.0127   0.05     0.0149\n",
            "U:VERB:FORM    0        1        7        0.0      0.0      0.0\n",
            "U:VERB:TENSE   10       32       36       0.2381   0.2174   0.2336\n",
            "\n",
            "=== Span-Based Correction + Classification ===\n",
            "TP\tFP\tFN\tPrec\tRec\tF0.5\n",
            "1112\t9111\t6470\t0.1088\t0.1467\t0.1147\n",
            "==============================================\n",
            "\n"
          ]
        }
      ],
      "source": [
        "# calculating F0.5 SCORE -- make sure the paths for all .txt files are set properly above\n",
        "\n",
        "!errant_parallel -orig $ORIGINAL_PATH -cor $PREDICTIONS_PATH -out $PREDICTIONS_M2\n",
        "!errant_parallel -orig $ORIGINAL_PATH -cor $GROUND_TRUTH_PATH -out $GT_M2\n",
        "!errant_compare -hyp $PREDICTIONS_M2 -ref $GT_M2 -cse -cat 3"
      ]
    }
  ],
  "metadata": {
    "colab": {
      "provenance": []
    },
    "kernelspec": {
      "display_name": "Python 3",
      "name": "python3"
    },
    "language_info": {
      "name": "python"
    }
  },
  "nbformat": 4,
  "nbformat_minor": 0
}